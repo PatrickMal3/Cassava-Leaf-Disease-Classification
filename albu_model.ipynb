{
 "cells": [
  {
   "cell_type": "code",
   "execution_count": 57,
   "metadata": {},
   "outputs": [],
   "source": [
    "# imports\n",
    "import pandas as pd\n",
    "import numpy as np\n",
    "import tensorflow as tf\n",
    "from tensorflow.keras.models import Sequential, load_model\n",
    "from tensorflow.keras.applications import EfficientNetB0\n",
    "from PIL import Image\n",
    "import albumentations as alb\n",
    "import matplotlib.pyplot as plt\n",
    "from tensorflow.keras.layers import Dense, Dropout, GlobalAveragePooling2D\n",
    "from tensorflow.keras.callbacks import ModelCheckpoint, ReduceLROnPlateau, EarlyStopping\n",
    "from tensorflow.keras.regularizers import l2"
   ]
  },
  {
   "cell_type": "code",
   "execution_count": 61,
   "metadata": {
    "scrolled": true
   },
   "outputs": [],
   "source": [
    "# constants\n",
    "leaf_df = pd.read_csv('/home/patrick/Projects/cassava_data/train.csv')\n",
    "leaf_image_directory = '../cassava_data/train_images'\n",
    "\n",
    "leaf_df['label']= leaf_df['label'].astype(int)\n",
    "\n",
    "validate_split = 0.2\n",
    "batch_size = 4\n",
    "\n",
    "img_width = 224\n",
    "img_height = 224\n",
    "\n",
    "input_shape = (img_height, img_width, 3)\n",
    "\n",
    "learning_rate = 0.001\n",
    "l2_penalty = 0.0001\n",
    "\n",
    "dropout_rate = 0.3"
   ]
  },
  {
   "cell_type": "code",
   "execution_count": 62,
   "metadata": {},
   "outputs": [
    {
     "name": "stdout",
     "output_type": "stream",
     "text": [
      "{0: 12.1048758049678, 1: 6.010963910461398, 2: 5.514668901927913, 3: 1.0, 4: 5.105937136204889}\n"
     ]
    }
   ],
   "source": [
    "#####\n",
    "# define class weights\n",
    "#####\n",
    "\n",
    "class_nums = []\n",
    "for x in range(5):\n",
    "    num = leaf_df[leaf_df['label'] == x].count()[0]\n",
    "    class_nums.append(num)\n",
    "\n",
    "class_weights = {}\n",
    "for x in range(5):\n",
    "    class_weights[x] = max(class_nums)/class_nums[x]\n",
    "\n",
    "print(class_weights)"
   ]
  },
  {
   "cell_type": "code",
   "execution_count": 63,
   "metadata": {},
   "outputs": [],
   "source": [
    "#####\n",
    "# create train and validate dataframes\n",
    "#####\n",
    "\n",
    "# establish amounts for train/validate split\n",
    "num_images = leaf_df.shape[0]\n",
    "num_valid = int(num_images*validate_split)\n",
    "num_train = num_images - num_valid\n",
    "\n",
    "# shuffle data\n",
    "shuffled_df = leaf_df.sample(frac=1)\n",
    "\n",
    "# create validation and traning dataframes\n",
    "valid_df = shuffled_df.iloc[:num_valid,:]\n",
    "train_df = shuffled_df.iloc[num_valid+1:,:]\n",
    "\n",
    "valid_x = valid_df['image_id'].tolist()\n",
    "valid_x = [leaf_image_directory + \"/\" + element for element in valid_x]\n",
    "valid_y = valid_df['label'].tolist()\n",
    "train_x = train_df['image_id'].tolist()\n",
    "train_x = [leaf_image_directory + \"/\" + element for element in train_x]\n",
    "train_y = train_df['label'].tolist()"
   ]
  },
  {
   "cell_type": "code",
   "execution_count": 1,
   "metadata": {},
   "outputs": [
    {
     "ename": "NameError",
     "evalue": "name 'alb' is not defined",
     "output_type": "error",
     "traceback": [
      "\u001b[0;31m---------------------------------------------------------------------------\u001b[0m",
      "\u001b[0;31mNameError\u001b[0m                                 Traceback (most recent call last)",
      "\u001b[0;32m<ipython-input-1-aef347d2b2b9>\u001b[0m in \u001b[0;36m<module>\u001b[0;34m\u001b[0m\n\u001b[1;32m      2\u001b[0m \u001b[0;31m# define augmentation function\u001b[0m\u001b[0;34m\u001b[0m\u001b[0;34m\u001b[0m\u001b[0;34m\u001b[0m\u001b[0m\n\u001b[1;32m      3\u001b[0m \u001b[0;31m#####\u001b[0m\u001b[0;34m\u001b[0m\u001b[0;34m\u001b[0m\u001b[0;34m\u001b[0m\u001b[0m\n\u001b[0;32m----> 4\u001b[0;31m transform = alb.Compose([\n\u001b[0m\u001b[1;32m      5\u001b[0m                          \u001b[0;31m#alb.RandomCrop(width=img_width, height=img_height, p=1.0),\u001b[0m\u001b[0;34m\u001b[0m\u001b[0;34m\u001b[0m\u001b[0;34m\u001b[0m\u001b[0m\n\u001b[1;32m      6\u001b[0m                          \u001b[0malb\u001b[0m\u001b[0;34m.\u001b[0m\u001b[0mHorizontalFlip\u001b[0m\u001b[0;34m(\u001b[0m\u001b[0;34m)\u001b[0m\u001b[0;34m,\u001b[0m\u001b[0;34m\u001b[0m\u001b[0;34m\u001b[0m\u001b[0m\n",
      "\u001b[0;31mNameError\u001b[0m: name 'alb' is not defined"
     ]
    }
   ],
   "source": [
    "#####\n",
    "# define augmentation function\n",
    "#####\n",
    "transform = alb.Compose([\n",
    "                         #alb.RandomCrop(width=img_width, height=img_height, p=1.0),\n",
    "                         alb.HorizontalFlip(),\n",
    "                         alb.VerticalFlip(),\n",
    "                         alb.Rotate(),\n",
    "                         alb.GaussianBlur(p=0.3),\n",
    "                         #alb.CoarseDropout(min_holes=1,\n",
    "                         #                  max_holes=20,\n",
    "                         #                  min_height=20,\n",
    "                         #                  max_height=50,\n",
    "                         #                  min_width=20,\n",
    "                         #                  max_width=50),\n",
    "                         alb.RandomBrightnessContrast(),\n",
    "                         alb.ToGray(p=0.3),\n",
    "                         #alb.HueSaturationValue(),\n",
    "                         alb.RandomBrightnessContrast(p=0.3),\n",
    "                       ])\n",
    "\n",
    "def augment(img):\n",
    "    #np_img = np.array(img)\n",
    "    aug_img = transform(image=img)['image']\n",
    "    return aug_img\n",
    "\n",
    "# test the preprocessing function\n",
    "img = Image.open('../cassava_data/train_images/15982075.jpg')\n",
    "print(img.size)\n",
    "##img = img.resize((300,300))\n",
    "\n",
    "img = img.resize((img_width, img_height))\n",
    "img = np.array(img)\n",
    "img = np.float32(img/255.0)\n",
    "augmented= augment(img)\n",
    "plt.imshow(img)\n",
    "plt.show()\n",
    "plt.imshow(augmented)\n",
    "plt.show()"
   ]
  },
  {
   "cell_type": "code",
   "execution_count": 69,
   "metadata": {},
   "outputs": [],
   "source": [
    "#####\n",
    "# define data generator functions\n",
    "#####\n",
    "\n",
    "# training values\n",
    "train_names = train_df['image_id'].values\n",
    "train_labels = train_df['label'].values\n",
    "\n",
    "# validation values\n",
    "valid_names = valid_df['image_id'].values\n",
    "valid_labels = valid_df['label'].values\n",
    "\n",
    "# train generator\n",
    "def train_generator():\n",
    "    while True:\n",
    "        for start in range(0, num_train, batch_size):\n",
    "            x_batch = []\n",
    "            y_batch = []\n",
    "\n",
    "            end = min(start + batch_size, num_train-1)\n",
    "            for img_path in range(start, end):\n",
    "                img = Image.open(train_x[img_path])\n",
    "                img = img.resize((img_width, img_height))\n",
    "                #img_array = np.asarray(img, np.float32)\n",
    "                img_array = np.array(img)\n",
    "                #img_array = np.float32(img_array/255.0)\n",
    "                #img_array = augment(img_array)\n",
    "                x_batch.append(img_array)\n",
    "                y_batch.append(train_y[img_path])\n",
    "\n",
    "            yield (np.array(x_batch), np.array(y_batch))\n",
    "\n",
    "\n",
    "# valid generator\n",
    "def valid_generator():\n",
    "    while True:\n",
    "        for start in range(0, num_valid, batch_size):\n",
    "            x_batch = []\n",
    "            y_batch = []\n",
    "\n",
    "            end = min(start + batch_size, num_valid-1)\n",
    "            for img_path in range(start, end):\n",
    "                img = Image.open(train_x[img_path])\n",
    "                img = img.resize((img_width, img_height))\n",
    "                #img_array = np.asarray(img, np.float32)\n",
    "                img_array = np.array(img)\n",
    "                #img_array = np.float32(img_array/255.0)\n",
    "                #img_array = augment(img_array)\n",
    "                x_batch.append(img_array)\n",
    "                y_batch.append(valid_y[img_path])\n",
    "\n",
    "            yield (np.array(x_batch), np.array(y_batch))"
   ]
  },
  {
   "cell_type": "code",
   "execution_count": 60,
   "metadata": {},
   "outputs": [],
   "source": [
    "# callbacks\n",
    "callbacks = [ReduceLROnPlateau(\n",
    "                               monitor='val_loss', \n",
    "                               patience=2, \n",
    "                               verbose=1, \n",
    "                               factor=0.1, \n",
    "                               min_delta = 0.001, \n",
    "                               mode = 'min'\n",
    "                              )]"
   ]
  },
  {
   "cell_type": "code",
   "execution_count": 66,
   "metadata": {},
   "outputs": [],
   "source": [
    "# define pretrained model\n",
    "pre_trained_model = EfficientNetB0(\n",
    "                                   weights='imagenet', \n",
    "                                   include_top=False,\n",
    "                                   input_shape=input_shape,\n",
    "                                  )\n",
    "\n",
    "#pre_trained_model.load_weights('efficientnet-b3_advprop_notop.h5')\n",
    "#pre_trained_model.trainable = True"
   ]
  },
  {
   "cell_type": "code",
   "execution_count": 62,
   "metadata": {},
   "outputs": [],
   "source": [
    "# add L2 regularization to pre-trained model\n",
    "regularizer = tf.keras.regularizers.l2(l2_penalty)\n",
    "\n",
    "for layer in pre_trained_model.layers:\n",
    "    for attr in ['kernel_regularizer']:\n",
    "        if hasattr(layer, attr):\n",
    "          setattr(layer, attr, regularizer)\n",
    "        \n",
    "model_json = pre_trained_model.to_json()\n",
    "pre_trained_model.save_weights('tmp_weights.h5')\n",
    "pre_trained_model = tf.keras.models.model_from_json(model_json)\n",
    "pre_trained_model.load_weights('tmp_weights.h5')"
   ]
  },
  {
   "cell_type": "code",
   "execution_count": 67,
   "metadata": {},
   "outputs": [
    {
     "name": "stdout",
     "output_type": "stream",
     "text": [
      "Model: \"sequential_4\"\n",
      "_________________________________________________________________\n",
      "Layer (type)                 Output Shape              Param #   \n",
      "=================================================================\n",
      "efficientnetb0 (Functional)  (None, 7, 7, 1280)        4049571   \n",
      "_________________________________________________________________\n",
      "global_average_pooling2d_4 ( (None, 1280)              0         \n",
      "_________________________________________________________________\n",
      "dense_4 (Dense)              (None, 5)                 6405      \n",
      "=================================================================\n",
      "Total params: 4,055,976\n",
      "Trainable params: 4,013,953\n",
      "Non-trainable params: 42,023\n",
      "_________________________________________________________________\n"
     ]
    }
   ],
   "source": [
    "# define model\n",
    "model = Sequential()\n",
    "model.add(pre_trained_model)\n",
    "model.add(GlobalAveragePooling2D())\n",
    "#model.add(Dropout(dropout_rate))\n",
    "model.add(Dense(5, activation=\"softmax\"))\n",
    "\n",
    "# compile model\n",
    "model.compile(loss = 'sparse_categorical_crossentropy',\n",
    "              optimizer = tf.keras.optimizers.Adam(learning_rate=learning_rate),\n",
    "              metrics = ['accuracy'])\n",
    "\n",
    "# summarize model\n",
    "model.summary()"
   ]
  },
  {
   "cell_type": "code",
   "execution_count": null,
   "metadata": {},
   "outputs": [
    {
     "name": "stdout",
     "output_type": "stream",
     "text": [
      "Epoch 1/10\n",
      "   2/4279 [..............................] - ETA: 6:43 - loss: 1.5556 - accuracy: 0.2500WARNING:tensorflow:Callbacks method `on_train_batch_end` is slow compared to the batch time (batch time: 0.0399s vs `on_train_batch_end` time: 0.0755s). Check your callbacks.\n",
      "4204/4279 [============================>.] - ETA: 7s - loss: 0.8271 - accuracy: 0.7055"
     ]
    }
   ],
   "source": [
    "# fit the model\n",
    "history = model.fit(\n",
    "    train_generator(),\n",
    "    epochs= 10,\n",
    "    steps_per_epoch= num_train // batch_size,\n",
    "    validation_data= valid_generator(),\n",
    "    validation_steps = num_valid // batch_size,\n",
    "    #class_weight=class_weights,\n",
    "    #callbacks=callbacks,\n",
    ")   "
   ]
  },
  {
   "cell_type": "code",
   "execution_count": 26,
   "metadata": {},
   "outputs": [
    {
     "name": "stdout",
     "output_type": "stream",
     "text": [
      "3\n",
      "3\n",
      "3\n",
      "2\n"
     ]
    }
   ],
   "source": [
    "print(train_y[0])\n",
    "print(train_y[1])\n",
    "print(train_y[2])\n",
    "print(train_y[3])"
   ]
  },
  {
   "cell_type": "code",
   "execution_count": 12,
   "metadata": {},
   "outputs": [
    {
     "ename": "NameError",
     "evalue": "name 'history' is not defined",
     "output_type": "error",
     "traceback": [
      "\u001b[0;31m---------------------------------------------------------------------------\u001b[0m",
      "\u001b[0;31mNameError\u001b[0m                                 Traceback (most recent call last)",
      "\u001b[0;32m<ipython-input-12-094fb48fedb0>\u001b[0m in \u001b[0;36m<module>\u001b[0;34m\u001b[0m\n\u001b[0;32m----> 1\u001b[0;31m \u001b[0mplt\u001b[0m\u001b[0;34m.\u001b[0m\u001b[0mplot\u001b[0m\u001b[0;34m(\u001b[0m\u001b[0mhistory\u001b[0m\u001b[0;34m.\u001b[0m\u001b[0mhistory\u001b[0m\u001b[0;34m[\u001b[0m\u001b[0;34m'loss'\u001b[0m\u001b[0;34m]\u001b[0m\u001b[0;34m)\u001b[0m\u001b[0;34m\u001b[0m\u001b[0;34m\u001b[0m\u001b[0m\n\u001b[0m\u001b[1;32m      2\u001b[0m \u001b[0mplt\u001b[0m\u001b[0;34m.\u001b[0m\u001b[0mplot\u001b[0m\u001b[0;34m(\u001b[0m\u001b[0mhistory\u001b[0m\u001b[0;34m.\u001b[0m\u001b[0mhistory\u001b[0m\u001b[0;34m[\u001b[0m\u001b[0;34m'val_loss'\u001b[0m\u001b[0;34m]\u001b[0m\u001b[0;34m)\u001b[0m\u001b[0;34m\u001b[0m\u001b[0;34m\u001b[0m\u001b[0m\n\u001b[1;32m      3\u001b[0m \u001b[0mplt\u001b[0m\u001b[0;34m.\u001b[0m\u001b[0mtitle\u001b[0m\u001b[0;34m(\u001b[0m\u001b[0;34m'Accuracy over epochs'\u001b[0m\u001b[0;34m)\u001b[0m\u001b[0;34m\u001b[0m\u001b[0;34m\u001b[0m\u001b[0m\n\u001b[1;32m      4\u001b[0m \u001b[0mplt\u001b[0m\u001b[0;34m.\u001b[0m\u001b[0mylabel\u001b[0m\u001b[0;34m(\u001b[0m\u001b[0;34m'Accuracy'\u001b[0m\u001b[0;34m)\u001b[0m\u001b[0;34m\u001b[0m\u001b[0;34m\u001b[0m\u001b[0m\n\u001b[1;32m      5\u001b[0m \u001b[0mplt\u001b[0m\u001b[0;34m.\u001b[0m\u001b[0mxlabel\u001b[0m\u001b[0;34m(\u001b[0m\u001b[0;34m'Epoch'\u001b[0m\u001b[0;34m)\u001b[0m\u001b[0;34m\u001b[0m\u001b[0;34m\u001b[0m\u001b[0m\n",
      "\u001b[0;31mNameError\u001b[0m: name 'history' is not defined"
     ]
    }
   ],
   "source": [
    "plt.plot(history.history['loss'])\n",
    "plt.plot(history.history['val_loss'])\n",
    "plt.title('Accuracy over epochs')\n",
    "plt.ylabel('Accuracy')\n",
    "plt.xlabel('Epoch')\n",
    "plt.legend(['Train', 'Validation'], loc='best')\n",
    "plt.show()"
   ]
  },
  {
   "cell_type": "code",
   "execution_count": 39,
   "metadata": {},
   "outputs": [],
   "source": []
  }
 ],
 "metadata": {
  "accelerator": "GPU",
  "colab": {
   "authorship_tag": "ABX9TyOzSocnW1Tev6nLMM//cxVS",
   "collapsed_sections": [],
   "name": "Untitled0.ipynb",
   "provenance": []
  },
  "kernelspec": {
   "display_name": "Python 3",
   "language": "python",
   "name": "python3"
  },
  "language_info": {
   "codemirror_mode": {
    "name": "ipython",
    "version": 3
   },
   "file_extension": ".py",
   "mimetype": "text/x-python",
   "name": "python",
   "nbconvert_exporter": "python",
   "pygments_lexer": "ipython3",
   "version": "3.8.5"
  }
 },
 "nbformat": 4,
 "nbformat_minor": 1
}
